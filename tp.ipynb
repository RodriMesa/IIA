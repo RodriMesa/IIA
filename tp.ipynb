{
 "cells": [
  {
   "cell_type": "markdown",
   "metadata": {},
   "source": [
    "# Integrantes\n",
    "\n",
    "* Juan Ignacio García (a2008)\n",
    "* Rodrigo Mesa Marchi (a2016)\n",
    "* Danilo Simón Reitano Andrades (a2020)"
   ]
  },
  {
   "cell_type": "code",
   "execution_count": 40,
   "metadata": {},
   "outputs": [],
   "source": [
    "from aima_libs.hanoi_states import ProblemHanoi, StatesHanoi\n",
    "from queue import PriorityQueue\n",
    "from aima_libs.tree_hanoi import NodeHanoi\n"
   ]
  },
  {
   "cell_type": "code",
   "execution_count": 62,
   "metadata": {},
   "outputs": [],
   "source": [
    "def a_star_evaluation(node: NodeHanoi) -> int:\n",
    "    \"\"\"\n",
    "    Path cost + heuristic which prioritizes disks in the right position weighted by size\n",
    "    \"\"\"\n",
    "    return node.path_cost - sum(node.state.get_state()[2])\n",
    "\n",
    "def greedy_evaluation(node: NodeHanoi) -> int:\n",
    "    \"\"\"\n",
    "    Heuristic which prioritizes disks in the right position weighted by size\n",
    "    \"\"\"\n",
    "    return -sum(node.state.get_state()[2])\n",
    "\n",
    "def dijkstra_evaluation(node: NodeHanoi) -> int:\n",
    "    \"\"\"\n",
    "    Path cost\n",
    "    \"\"\"\n",
    "    return node.path_cost\n",
    "\n",
    "def search_algo(number_disks, evaluation_function):\n",
    "    # Inicializamos el problema\n",
    "    list_disks = [i for i in range(number_disks, 0, -1)]\n",
    "    initial_state = StatesHanoi(list_disks, [], [], max_disks=number_disks)\n",
    "    goal_state = StatesHanoi([], [], list_disks, max_disks=number_disks)\n",
    "    problem = ProblemHanoi(initial=initial_state, goal=goal_state)\n",
    "\n",
    "    initial_node = NodeHanoi(problem.initial)\n",
    "\n",
    "    # Creamos una cola FIFO con el nodo inicial\n",
    "    frontier = PriorityQueue()\n",
    "    frontier.put((evaluation_function(initial_node), initial_node))\n",
    "\n",
    "    # Creamos el set con estados ya visitados\n",
    "    explored = set()\n",
    "    \n",
    "    node_explored = 0\n",
    "    \n",
    "    while not frontier.empty():\n",
    "        node = frontier.get()[1]\n",
    "        node_explored += 1\n",
    "        \n",
    "        # Agregamos el estado del nodo al set. Esto evita guardar duplicados, porque set nunca tiene elementos repetidos\n",
    "        explored.add(node.state)\n",
    "        \n",
    "        if problem.goal_test(node.state):  # Comprobamos si hemos alcanzado el estado objetivo\n",
    "            metrics = {\n",
    "                \"solution_found\": True,\n",
    "                \"nodes_explored\": node_explored,\n",
    "                \"states_visited\": len(explored),\n",
    "                \"nodes_in_frontier\": frontier.qsize(),\n",
    "                \"max_depth\": node.depth,\n",
    "                \"cost_total\": node.state.accumulated_cost,\n",
    "            }\n",
    "            return node, metrics\n",
    "        \n",
    "        # Agregamos a la cola todos los nodos sucesores del nodo actual\n",
    "        for next_node in node.expand(problem):\n",
    "            # Solo si el estado del nodo no fue explorado\n",
    "            if next_node.state not in explored:\n",
    "                frontier.put((evaluation_function(next_node), next_node))\n",
    "\n",
    "    # Si no se encontro la solución, devolvemos la métricas igual\n",
    "    metrics = {\n",
    "        \"solution_found\": False,\n",
    "        \"nodes_explored\": node_explored,\n",
    "        \"states_visited\": len(explored),\n",
    "        \"nodes_in_frontier\": frontier.qsize(),\n",
    "        \"max_depth\": node.depth, # OBS: Si no se encontró la solución, este valor solo tiene sentido en breadth_first_search, en otros casos se debe ir llevando registro de cual fue la máxima profundidad\n",
    "        \"cost_total\": None,\n",
    "    }\n",
    "    return problem, metrics"
   ]
  },
  {
   "cell_type": "code",
   "execution_count": 63,
   "metadata": {},
   "outputs": [
    {
     "name": "stdout",
     "output_type": "stream",
     "text": [
      "108 ms ± 803 μs per loop (mean ± std. dev. of 7 runs, 10 loops each)\n"
     ]
    }
   ],
   "source": [
    "%%timeit\n",
    "problem_a_star, metrics_a_star = search_algo(7, a_star_evaluation)\n"
   ]
  },
  {
   "cell_type": "code",
   "execution_count": 64,
   "metadata": {},
   "outputs": [
    {
     "name": "stdout",
     "output_type": "stream",
     "text": [
      "108 ms ± 538 μs per loop (mean ± std. dev. of 7 runs, 10 loops each)\n"
     ]
    }
   ],
   "source": [
    "%%timeit\n",
    "problem_greedy, metrics_greedy = search_algo(7, greedy_evaluation)"
   ]
  },
  {
   "cell_type": "code",
   "execution_count": 65,
   "metadata": {},
   "outputs": [
    {
     "name": "stdout",
     "output_type": "stream",
     "text": [
      "172 ms ± 1.07 ms per loop (mean ± std. dev. of 7 runs, 10 loops each)\n"
     ]
    }
   ],
   "source": [
    "%%timeit\n",
    "problem_dij, metrics_dij = search_algo(7, dijkstra_evaluation)"
   ]
  },
  {
   "cell_type": "code",
   "execution_count": 79,
   "metadata": {},
   "outputs": [
    {
     "name": "stdout",
     "output_type": "stream",
     "text": [
      "{'solution_found': True, 'nodes_explored': 2509, 'states_visited': 1494, 'nodes_in_frontier': 48, 'max_depth': 127, 'cost_total': 127.0}\n",
      "Diferencia con la solución óptima: 0.0\n"
     ]
    }
   ],
   "source": [
    "_, metrics_a_star = search_algo(7, a_star_evaluation)\n",
    "print(metrics_a_star)\n",
    "print(f\"Diferencia con la solución óptima: {metrics_a_star['cost_total']-(2**7-1)}\")"
   ]
  },
  {
   "cell_type": "code",
   "execution_count": 80,
   "metadata": {},
   "outputs": [
    {
     "name": "stdout",
     "output_type": "stream",
     "text": [
      "{'solution_found': True, 'nodes_explored': 2547, 'states_visited': 1449, 'nodes_in_frontier': 95, 'max_depth': 138, 'cost_total': 138.0}\n",
      "Diferencia con la solución óptima: 11.0\n"
     ]
    }
   ],
   "source": [
    "_, metrics_greedy = search_algo(7, greedy_evaluation)\n",
    "print(metrics_greedy)\n",
    "print(f\"Diferencia con la solución óptima: {metrics_greedy['cost_total']-(2**7-1)}\")"
   ]
  },
  {
   "cell_type": "code",
   "execution_count": 81,
   "metadata": {},
   "outputs": [
    {
     "name": "stdout",
     "output_type": "stream",
     "text": [
      "{'solution_found': True, 'nodes_explored': 4071, 'states_visited': 2072, 'nodes_in_frontier': 208, 'max_depth': 127, 'cost_total': 127.0}\n",
      "Diferencia con la solución óptima: 0.0\n"
     ]
    }
   ],
   "source": [
    "_, metrics_dij = search_algo(7, dijkstra_evaluation)\n",
    "print(metrics_dij)\n",
    "print(f\"Diferencia con la solución óptima: {metrics_dij['cost_total']-(2**7-1)}\")"
   ]
  }
 ],
 "metadata": {
  "kernelspec": {
   "display_name": "3.12.0",
   "language": "python",
   "name": "python3"
  },
  "language_info": {
   "codemirror_mode": {
    "name": "ipython",
    "version": 3
   },
   "file_extension": ".py",
   "mimetype": "text/x-python",
   "name": "python",
   "nbconvert_exporter": "python",
   "pygments_lexer": "ipython3",
   "version": "3.12.0"
  }
 },
 "nbformat": 4,
 "nbformat_minor": 2
}
