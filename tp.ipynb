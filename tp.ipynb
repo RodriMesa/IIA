{
 "cells": [
  {
   "cell_type": "markdown",
   "metadata": {},
   "source": [
    "# Integrantes\n",
    "\n",
    "* Juan Ignacio García (a2008)\n",
    "* Rodrigo Mesa Marchi (a2016)\n",
    "* Danilo Simón Reitano Andrades (a2020)\n",
    "\n",
    "# Desarrollo\n",
    "\n",
    "## PEAS del Problema\n",
    "\n",
    "Consideramos que el agente se trata de un agente de software que resolverá el problema de las Torres de Hanoi llevando todos los discos de una posición inicial a una final. Con este contexto en mente se definen los PEAS del problema:\n",
    "\n",
    "**Performance**: Minimizar cantidad de pasos necesarios hasta encontrar la solución del problema sin incumplir las restricciones dadas.\n",
    "\n",
    "**Environment**: El rompecabezas de Torres de Hanoi, con 3 varillas, *n* discos; y considerando las siguientes restricciones:\n",
    "* Solo se puede mover el disco más superficial de cada varilla.\n",
    "* Solo se puede ubicar un disco más pequeño sobre uno más grande o un espacio vacío.\n",
    "* Solo se puede hacer un movimiento a la vez.\n",
    "\n",
    "**Actuators**: Pensando únicamente en un software que solucione este problema, los actuadores son las funciones que permiten mover una pieza entre varillas.\n",
    "\n",
    "**Sensors**: La clase que representa el nodo actual de la evolución del problema tiene la capacidad de observar el estado en que se encuentran los discos en todo momento.\n",
    "\n",
    "## Propiedades del Entorno de Trabajo\n",
    "\n",
    "En el contexto mencionado anteriormente, se definen las siguientes propiedades del entorno:\n",
    "\n",
    "**Totalmente observable**: Se dispone de los sensores para leer toda la información necesaria del entorno para resolver el problema.\n",
    "\n",
    "**Determinista**: La selección de un estado sucesor se da en forma determinística, siguiendo un orden dado por la función de evaluación.\n",
    "\n",
    "**Episódico**: Cada estado es independiente del camino que ha realizado. Dicho de otro modo, se puede encontrar una solución (si existe) comenzando desde cualquier estado posible sin importar cómo se ha llegado al estado inicial. Dicho esto, se pretende incorporar un mecanismo que puede considerarse secuencial que registra los nodos ya visitados para evitar explorarlos nuevamente.\n",
    "\n",
    "**Estático**: Se considera que no pueden ocurrir cambios indeseados mientras se evalúa o ejecuta el camino encontrado.\n",
    "\n",
    "**Discreto**: El número de acciones que se pueden tomar para alcanzar un estado sucesor es finito y observable.\n",
    "\n",
    "**Agente individual**: El problema puede ser resuelto por un único agente sin contar con la intervención de ningún otro.\n",
    "\n",
    "## Definiciones de Conceptos Importantes\n",
    "\n",
    "Se incluye la definición de algunos conceptos importantes en la jerga de los algoritmos de búsqueda contextualizados para este problema concreto:\n",
    "\n",
    "**Estados**: Cada configuración ordenada de los discos contenidos en cada estaca.\n",
    "\n",
    "**Espacio de estados**: Todas las configuraciones válidas ($3^n - 1$) posibles para el problema de Torres de Hanoi para *n* discos.\n",
    "\n",
    "**Árbol de Búsqueda**: Es un diagrama de grafos que se forma tomando una configuración inicial del problema, considerando para este nodo todas las posibles acciones que se pueden tomar que modifican el estado actual hacia uno siguiente.\n",
    "\n",
    "**Nodo de Búsqueda**: Estructura que representa a un estado dentro del espacio de búsqueda junto con información relevante como el nodo padre del que proviene, el costo del camino y el valor de su heurística (si aplica).\n",
    "\n",
    "**Objetivo**: El estado que describe la configuración de discos a la que se desea llegar.\n",
    "\n",
    "**Acción**: Mover un disco superficial de una varilla a otra cumpliendo las restricciones. Cuando se aplica una acción se dice que se *expande* el nodo.\n",
    "\n",
    "**Frontera**: Son los nodos almacenados en la estructura de búsqueda siguiendo un orden dado según el algoritmo de búsqueda elegido. Gráficamente corresponde a las hojas del árbol."
   ]
  },
  {
   "cell_type": "markdown",
   "metadata": {},
   "source": [
    "## Implementación del Algoritmo de búsqueda\n",
    "\n",
    "Se ha notado que todos los algoritmos de búsqueda siguen una estrategia iterativa similar en la que se expande un nodo, se realiza un test objetivo para ver si se alcanzó la meta y, en caso contrario, se introducen los nodos sucesores dentro de la cola de búsqueda. El algoritmo que se utiliza define la prioridad en que se expandirá el siguiente nodo desde la frontera, siendo este mecanismo lo único que diferencia un algoritmo de otro a nivel operativo. Por este motivo se desarrolla una función `global_search_algo` que contiene esta estructura genérica y que recibe como parámetros el número de discos `n` con el que se quiere buscar una solución y un método que calcula el valor de prioridad que se asigna a cada nodo de la frontera, apoyándonos de una estructura de datos del tipo `PriorityQueue` para organizar los nodos.\n",
    "\n",
    "Se destaca que se prepara el programa para que siempre considere que se partirá de un estado inicial en el que los `n` discos se ubican ordenados en la varilla 1 y se llegue a un estado objetivo donde los discos estén ordenados en la varilla 3. También se prepara un mecanismo que detecte cuando no exista una solución e informe de ello en caso de que ocurra."
   ]
  },
  {
   "cell_type": "code",
   "execution_count": 3,
   "metadata": {},
   "outputs": [],
   "source": [
    "from aima_libs.hanoi_states import ProblemHanoi, StatesHanoi\n",
    "from queue import PriorityQueue\n",
    "from aima_libs.tree_hanoi import NodeHanoi\n",
    "\n",
    "def search_algo(number_disks, evaluation_function):\n",
    "    # Inicializamos el problema creando una lista de number_disks discos ordenada de mayor a menor\n",
    "    # Se declara como estado inicial todos los discos en la primera varilla y como estado final todos en la última\n",
    "    list_disks = [i for i in range(number_disks, 0, -1)]\n",
    "    initial_state = StatesHanoi(list_disks, [], [], max_disks=number_disks)\n",
    "    goal_state = StatesHanoi([], [], list_disks, max_disks=number_disks)\n",
    "    problem = ProblemHanoi(initial=initial_state, goal=goal_state)\n",
    "\n",
    "    # Creamos el nodo raíz del árbol de búsqueda\n",
    "    initial_node = NodeHanoi(problem.initial)\n",
    "\n",
    "    # Creamos una cola con prioridad en la que se introduce el nodo inicial. La prioridad del nodo es calculada por la función `evaluation_function` pasada como argumento del método\n",
    "    frontier = PriorityQueue()\n",
    "    frontier.put((evaluation_function(initial_node), initial_node))\n",
    "\n",
    "    # Creamos el set con estados ya visitados\n",
    "    explored = set()\n",
    "    nodes_explored = 0\n",
    "    max_depth = 0\n",
    "    \n",
    "    # Iteramos en el espacio de búsqueda hasta que se agoten los nodos en la cola de búsqueda\n",
    "    while not frontier.empty():\n",
    "        # Adoptamos como nodo actual al primero en la cola\n",
    "        node = frontier.get()[1]\n",
    "        nodes_explored += 1\n",
    "        if node.depth > max_depth:\n",
    "            max_depth = node.depth \n",
    "        \n",
    "        # Agregamos el estado del nodo al set. Esto evita guardar duplicados, porque set nunca tiene elementos repetidos\n",
    "        explored.add(node.state)\n",
    "        \n",
    "        if problem.goal_test(node.state):  # Comprobamos si hemos alcanzado el estado objetivo\n",
    "            metrics = {\n",
    "                \"solution_found\": True,\n",
    "                \"nodes_explored\": nodes_explored,\n",
    "                \"states_visited\": len(explored),\n",
    "                \"nodes_in_frontier\": frontier.qsize(),\n",
    "                \"max_depth\": node.depth,\n",
    "                \"cost_total\": node.state.accumulated_cost,\n",
    "            }\n",
    "            return node, metrics\n",
    "        \n",
    "        # Agregamos a la cola todos los nodos sucesores del nodo actual. El método `expand` verifica internamente que los estados que se añaden a la cola son válidos\n",
    "        for next_node in node.expand(problem):\n",
    "            # Si el estado sucesor que se evalúa ya ha sido visitado, se ignora\n",
    "            if next_node.state not in explored:\n",
    "                # La prioridad del nodo es calculada por la función `evaluation_function` pasada como argumento del método\n",
    "                frontier.put((evaluation_function(next_node), next_node))\n",
    "\n",
    "    # Si no se encontró la solución, devolvemos las métricas igual\n",
    "    metrics = {\n",
    "        \"solution_found\": False,\n",
    "        \"nodes_explored\": nodes_explored,\n",
    "        \"states_visited\": len(explored),\n",
    "        \"nodes_in_frontier\": frontier.qsize(),\n",
    "        \"max_depth\": max_depth,\n",
    "        \"cost_total\": None,\n",
    "    }\n",
    "    return None, metrics"
   ]
  },
  {
   "cell_type": "markdown",
   "metadata": {},
   "source": [
    "Habiendo definido la estructura común que siguen los algoritmos, se definen las funciones para ejecutar tres estrategias de búsqueda distintas: La estrategia A*, la avara y la de costo uniforme (también llamada de Dijkstra). \n",
    "\n",
    "Como los dos primeros algoritmos son de búsqueda informada, resulta necesario diseñar una función *heurística*, que indique si un nodo es favorable frente a otro para alcanzar la solución. La heurística diseñada toma la cantidad de discos ubicados en la tercera estaca, ponderado por el tamaño del disco que se encuentre en la estaca. Esto es:\n",
    "\n",
    "$h(x) = \\sum_{i=1}^{n} i, \\quad \\forall i \\in \\text{peg}_3$\n",
    "\n",
    "La complejidad espacial y temporal de cada algoritmo elegido, así como si es completo y óptimo, se sintetiza en la siguiente tabla:\n",
    "\n",
    "| Algoritmo       | Complejidad en tiempo        | Complejidad en memoria | Completo | Óptimo |\n",
    "|-----------------|-----------------------------|------------------------|------------------------|------------------------|\n",
    "| **A***         | $O(b^d)$ (peor caso)       | $O(b^d)$             | Sí   | Sí    |\n",
    "| **Greedy** | $O(b^d)$ (peor caso) | $O(b^d)$             | Sí | No    |\n",
    "| **Dijkstra**   | $O(\\|A\\|\\log(V))$ (usando una cola prioritaria)| $O(\\|V\\|)$ | Sí | Sí    |\n",
    "\n",
    "Siendo:\n",
    "\n",
    "* *b* el factor de ramificación (número de hijos por nodo en promedio).\n",
    "\n",
    "* *d* la profundidad del nodo objetivo.\n",
    "\n",
    "* ∣*V*∣ el número de vértices en el grafo.\n",
    "\n",
    "* ∣*A*∣ el número de aristas en el grafo.\n",
    "\n",
    "Los métodos que definen la función de evaluación de cada algoritmo se definen a continuación:"
   ]
  },
  {
   "cell_type": "code",
   "execution_count": 4,
   "metadata": {},
   "outputs": [],
   "source": [
    "def a_star_evaluation(node: NodeHanoi) -> int:\n",
    "    \"\"\"\n",
    "    La función de evaluación del algoritmo A* se compone de la suma del costo del camino y el valor de la función heurística\n",
    "    \"\"\"\n",
    "    return node.path_cost - sum(node.state.get_state()[2])\n",
    "\n",
    "def greedy_evaluation(node: NodeHanoi) -> int:\n",
    "    \"\"\"\n",
    "    La función de evaluación del algoritmo avaro se compone del valor de la función heurística\n",
    "    \"\"\"\n",
    "    return -sum(node.state.get_state()[2])\n",
    "\n",
    "def dijkstra_evaluation(node: NodeHanoi) -> int:\n",
    "    \"\"\"\n",
    "    La función de evaluación del algoritmo de costo uniforme se compone del costo del camino\n",
    "    \"\"\"\n",
    "    return node.path_cost"
   ]
  },
  {
   "cell_type": "markdown",
   "metadata": {},
   "source": [
    "Una vez definida cada función de evaluación, se testea el problema con `n=7` discos para cada estrategia, corriendo el programa 10 veces y midiendo el tiempo promedio de ejecución y su distribución estándar:"
   ]
  },
  {
   "cell_type": "code",
   "execution_count": 5,
   "metadata": {},
   "outputs": [
    {
     "name": "stdout",
     "output_type": "stream",
     "text": [
      "89.5 ms ± 3.57 ms per loop (mean ± std. dev. of 10 runs, 1 loop each)\n"
     ]
    }
   ],
   "source": [
    "%%timeit -r 10 -n 1\n",
    "problem_a_star, metrics_a_star = search_algo(7, a_star_evaluation)"
   ]
  },
  {
   "cell_type": "code",
   "execution_count": 6,
   "metadata": {},
   "outputs": [
    {
     "name": "stdout",
     "output_type": "stream",
     "text": [
      "86.5 ms ± 853 µs per loop (mean ± std. dev. of 10 runs, 1 loop each)\n"
     ]
    }
   ],
   "source": [
    "%%timeit -r 10 -n 1\n",
    "problem_greedy, metrics_greedy = search_algo(7, greedy_evaluation)"
   ]
  },
  {
   "cell_type": "code",
   "execution_count": 7,
   "metadata": {},
   "outputs": [
    {
     "name": "stdout",
     "output_type": "stream",
     "text": [
      "140 ms ± 1.05 ms per loop (mean ± std. dev. of 10 runs, 1 loop each)\n"
     ]
    }
   ],
   "source": [
    "%%timeit -r 10 -n 1\n",
    "problem_dij, metrics_dij = search_algo(7, dijkstra_evaluation)"
   ]
  },
  {
   "cell_type": "markdown",
   "metadata": {},
   "source": [
    "Para medir la memoria utilizada por cada algoritmo se usa la librería `tracemalloc`, que permite obtener una lectura del pico de memoria consumida en la ejecución de una celda de código:"
   ]
  },
  {
   "cell_type": "code",
   "execution_count": 8,
   "metadata": {},
   "outputs": [
    {
     "name": "stdout",
     "output_type": "stream",
     "text": [
      "A*\n",
      "Pico de memoria promedio: 1.41 MB\n",
      "Desviación estándar: 0.04 MB\n",
      "Greedy\n",
      "Pico de memoria promedio: 1.59 MB\n",
      "Desviación estándar: 0.03 MB\n",
      "Dijkstra\n",
      "Pico de memoria promedio: 2.31 MB\n",
      "Desviación estándar: 0.05 MB\n"
     ]
    }
   ],
   "source": [
    "import tracemalloc\n",
    "import numpy as np\n",
    "\n",
    "def memory_measure(evaluation_function):\n",
    "    measures = []\n",
    "    for _ in range(10):\n",
    "        tracemalloc.start()\n",
    "        \n",
    "        _, _ = search_algo(7, evaluation_function)\n",
    "        \n",
    "        _, memory_peak = tracemalloc.get_traced_memory()\n",
    "        tracemalloc.stop()\n",
    "        \n",
    "        # Convert to MB\n",
    "        memory_peak /= 1024 * 1024\n",
    "        measures.append(memory_peak)\n",
    "\n",
    "    # Calcular estadísticas\n",
    "    memory_mean = np.mean(measures)\n",
    "    memory_std = np.std(measures)\n",
    "\n",
    "    print(f\"Pico de memoria promedio: {memory_mean:.2f} MB\")\n",
    "    print(f\"Desviación estándar: {memory_std:.2f} MB\")\n",
    "\n",
    "print(\"A*\")\n",
    "memory_measure(a_star_evaluation)\n",
    "\n",
    "print(\"Greedy\")\n",
    "memory_measure(greedy_evaluation)\n",
    "\n",
    "print(\"Dijkstra\")\n",
    "memory_measure(dijkstra_evaluation)"
   ]
  },
  {
   "cell_type": "markdown",
   "metadata": {},
   "source": [
    "Las métricas para cada algoritmo son las siguientes:"
   ]
  },
  {
   "cell_type": "code",
   "execution_count": 9,
   "metadata": {},
   "outputs": [
    {
     "name": "stdout",
     "output_type": "stream",
     "text": [
      "{'solution_found': True, 'nodes_explored': 2509, 'states_visited': 1494, 'nodes_in_frontier': 48, 'max_depth': 127, 'cost_total': 127.0}\n",
      "Diferencia con la solución óptima: 0.0\n"
     ]
    }
   ],
   "source": [
    "_, metrics_a_star = search_algo(7, a_star_evaluation)\n",
    "print(metrics_a_star)\n",
    "print(f\"Diferencia con la solución óptima: {metrics_a_star['cost_total']-(2**7-1)}\")"
   ]
  },
  {
   "cell_type": "code",
   "execution_count": 10,
   "metadata": {},
   "outputs": [
    {
     "name": "stdout",
     "output_type": "stream",
     "text": [
      "{'solution_found': True, 'nodes_explored': 2547, 'states_visited': 1449, 'nodes_in_frontier': 95, 'max_depth': 138, 'cost_total': 138.0}\n",
      "Diferencia con la solución óptima: 11.0\n"
     ]
    }
   ],
   "source": [
    "_, metrics_greedy = search_algo(7, greedy_evaluation)\n",
    "print(metrics_greedy)\n",
    "print(f\"Diferencia con la solución óptima: {metrics_greedy['cost_total']-(2**7-1)}\")"
   ]
  },
  {
   "cell_type": "code",
   "execution_count": 11,
   "metadata": {},
   "outputs": [
    {
     "name": "stdout",
     "output_type": "stream",
     "text": [
      "{'solution_found': True, 'nodes_explored': 4071, 'states_visited': 2072, 'nodes_in_frontier': 208, 'max_depth': 127, 'cost_total': 127.0}\n",
      "Diferencia con la solución óptima: 0.0\n"
     ]
    }
   ],
   "source": [
    "_, metrics_dij = search_algo(7, dijkstra_evaluation)\n",
    "print(metrics_dij)\n",
    "print(f\"Diferencia con la solución óptima: {metrics_dij['cost_total']-(2**7-1)}\")"
   ]
  },
  {
   "cell_type": "markdown",
   "metadata": {},
   "source": [
    "La síntesis de los resultados obtenidos se pueda observar en la siguiente tabla:\n",
    "\n",
    "| Algoritmo         | Tiempo Promedio        | Desviación de Tiempos | Memoria Promedio | Desviación de Memorias | Lejanía a Solución Optima |\n",
    "|-------------------|------------------------|-----------------------|------------------|------------------------|---------------------------|\n",
    "| **A***            | 85.9 ms                | 893 μs                | 1.41 MB          | 0.04 MB                | 0                         |\n",
    "| **Greedy**        | 87.3 ms                | 667 μs                | 1.59 MB          | 0.03 MB                | 11                        |\n",
    "| **Dijkstra**      | 140 ms                 | 1.13 ms               | 2.31 MB          | 0.04 MB                | 0                         |\n",
    "\n",
    "En conclusión se observa que el algoritmo de Dijkstra es más sencillo de implementar ya que no requiere de idear una función heurística; sin embargo explora casi el doble de estados que los otros algoritmos, lo que queda en evidencia por los mayores tiempos de ejecución y mayor cantidad de memoria empleada observados.\n",
    "\n",
    "Los algoritmos A* y Greedy performan de manera bastante similar, siendo el A* ligeramente más rápido y liviano, pero se observa que el algoritmo Greedy no siempre encuentra la mejor solución."
   ]
  },
  {
   "cell_type": "markdown",
   "metadata": {},
   "source": [
    "## Simulación\n",
    "\n",
    "Se incluye una forma de simular el problema utilizando la herramienta de visualización proporcionada por la cátedra. Para utilizarlo es necesario cambiar el parámetro de la función de evaluación que se desea aplicar (aunque según los experimentos realizados, solo debería verse una solución distinta en el algoritmo Greedy); esto generará los archivos JSON necesarios ppara que el simulador reconozca cuál es el estado inicial y el plan de acciones que debe seguir. Tras ejecutar esta celda, debe ejecutarse manualmente el archivo `simulator/simulation_hanoi.py` para visualizar el problema."
   ]
  },
  {
   "cell_type": "code",
   "execution_count": 15,
   "metadata": {},
   "outputs": [
    {
     "data": {
      "text/plain": [
       "'simulator\\\\sequence.json'"
      ]
     },
     "execution_count": 15,
     "metadata": {},
     "output_type": "execute_result"
    }
   ],
   "source": [
    "import shutil\n",
    "import os\n",
    "\n",
    "evaluation_function = greedy_evaluation\n",
    "\n",
    "solution, _ = search_algo(7, evaluation_function)\n",
    "solution.generate_solution_for_simulator()\n",
    "\n",
    "# Definir archivos de simulación y directorio de destino\n",
    "archivo1 = \"initial_state.json\"\n",
    "archivo2 = \"sequence.json\"\n",
    "destino = \"simulator\"\n",
    "\n",
    "# Mover archivos\n",
    "shutil.move(archivo1, os.path.join(destino, archivo1))\n",
    "shutil.move(archivo2, os.path.join(destino, archivo2))"
   ]
  }
 ],
 "metadata": {
  "kernelspec": {
   "display_name": "Python 3",
   "language": "python",
   "name": "python3"
  },
  "language_info": {
   "codemirror_mode": {
    "name": "ipython",
    "version": 3
   },
   "file_extension": ".py",
   "mimetype": "text/x-python",
   "name": "python",
   "nbconvert_exporter": "python",
   "pygments_lexer": "ipython3",
   "version": "3.11.9"
  }
 },
 "nbformat": 4,
 "nbformat_minor": 2
}
