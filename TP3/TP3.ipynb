{
 "cells": [
  {
   "cell_type": "markdown",
   "metadata": {},
   "source": [
    "# TP3 IIA\n",
    "\n",
    "## Integrantes\n",
    "\n",
    "* Juan Ignacio García (a2008)\n",
    "* Rodrigo Mesa Marchi (a2016)\n",
    "* Danilo Simón Reitano Andrades (a2020)"
   ]
  },
  {
   "cell_type": "markdown",
   "metadata": {},
   "source": [
    "### Tareas y preguntas a resolver\n",
    "\n",
    "1. ¿Cuáles son las 10 palabras más encontradas en correos con SPAM y en correos No SPAM? ¿Hay palabras en común? ¿Algunas llaman la atención?\n",
    "1. Separe el conjunto de datos en un conjunto de entrenamiento y un conjunto de prueba (70% y 30% respectivamente).\n",
    "1. Utilizando un clasificador de Bayes ingenuo, entrene con el conjunto de entrenamiento.\n",
    "1. Utilizando un clasificador de Regresión Logística, entrene con el conjunto de entrenamiento (en este caso, normalice los datos).\n",
    "1. Calcule la matriz de confusión del conjunto de evaluación para ambos modelos. ¿Qué tipo de error comete más cada modelo? ¿Cuál de los dos tipos de error crees que es más importante para este problema?\n",
    "1. Calcule la precisión y la recuperación de ambos modelos. Para cada métrica, ¿cuál es el mejor modelo? ¿Cómo se relacionan estas métricas con los tipos de errores analizados en el punto anterior? Expanda su respuesta.\n",
    "1. Obtenga la curva ROC y el AUC (Área Bajo la Curva ROC) de ambos modelos."
   ]
  }
 ],
 "metadata": {
  "language_info": {
   "name": "python"
  }
 },
 "nbformat": 4,
 "nbformat_minor": 2
}
